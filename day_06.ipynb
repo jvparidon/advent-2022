{
 "cells": [
  {
   "cell_type": "markdown",
   "id": "1c3956d4-245a-4981-a933-3b3728fe4b4c",
   "metadata": {},
   "source": [
    "# Advent of Code, day 6\n",
    "## Part 1"
   ]
  },
  {
   "cell_type": "code",
   "execution_count": 1,
   "id": "592457f2-72c5-4321-815a-d391ea41f468",
   "metadata": {},
   "outputs": [
    {
     "data": {
      "text/plain": [
       "'bfdbbngnvnsvshhhrvrbrtbrrhqrqg'"
      ]
     },
     "execution_count": 1,
     "metadata": {},
     "output_type": "execute_result"
    }
   ],
   "source": [
    "with open('data/day_06.txt', 'r') as infile:\n",
    "    s = infile.read()\n",
    "    \n",
    "s[:30]"
   ]
  },
  {
   "cell_type": "code",
   "execution_count": 2,
   "id": "58615532-f852-48a7-b5c1-0750b1de20bd",
   "metadata": {},
   "outputs": [],
   "source": [
    "from collections import deque\n",
    "\n",
    "def find_marker(s, l):\n",
    "    m = deque(s[0:l], maxlen=l)\n",
    "    for i, c in enumerate(s[l:]):\n",
    "        if len(set(m)) != l:\n",
    "            m.append(c)\n",
    "        else:\n",
    "            return i + l"
   ]
  },
  {
   "cell_type": "code",
   "execution_count": 3,
   "id": "e6a40491-5925-432e-888a-90f44561c7d6",
   "metadata": {},
   "outputs": [
    {
     "data": {
      "text/plain": [
       "1953"
      ]
     },
     "execution_count": 3,
     "metadata": {},
     "output_type": "execute_result"
    }
   ],
   "source": [
    "find_marker(s, 4)"
   ]
  },
  {
   "cell_type": "markdown",
   "id": "f6a81ef5-fa26-463b-85c8-ad1d2223a18e",
   "metadata": {},
   "source": [
    "There's probably some efficiency to be gained here; appending to a `deque` with a `maxlen` on every iteration is pretty fast, but doing the `set` conversion is perhaps not ideal? Taking the length of the `set` is certainly faster than most naive ways of checking the number of unique characters in a string, however."
   ]
  },
  {
   "cell_type": "markdown",
   "id": "5b3dfda3-672f-41c9-9311-aaf9a90e18cd",
   "metadata": {},
   "source": [
    "## Part 2"
   ]
  },
  {
   "cell_type": "code",
   "execution_count": 4,
   "id": "898755d7-3a5d-4790-a13f-d0b28c87f8eb",
   "metadata": {},
   "outputs": [
    {
     "data": {
      "text/plain": [
       "2301"
      ]
     },
     "execution_count": 4,
     "metadata": {},
     "output_type": "execute_result"
    }
   ],
   "source": [
    "find_marker(s, 14)"
   ]
  },
  {
   "cell_type": "markdown",
   "id": "2bca65b5-40d0-4a1b-8df9-60948d9166eb",
   "metadata": {},
   "source": [
    "If you write something modular and flexible to begin with, there's no need to make changes when the task changes slightly."
   ]
  },
  {
   "cell_type": "code",
   "execution_count": null,
   "id": "7b15e46c-47fc-4309-8769-c11476811cb2",
   "metadata": {},
   "outputs": [],
   "source": []
  }
 ],
 "metadata": {
  "kernelspec": {
   "display_name": "Python 3 (ipykernel)",
   "language": "python",
   "name": "python3"
  },
  "language_info": {
   "codemirror_mode": {
    "name": "ipython",
    "version": 3
   },
   "file_extension": ".py",
   "mimetype": "text/x-python",
   "name": "python",
   "nbconvert_exporter": "python",
   "pygments_lexer": "ipython3",
   "version": "3.10.8"
  }
 },
 "nbformat": 4,
 "nbformat_minor": 5
}
