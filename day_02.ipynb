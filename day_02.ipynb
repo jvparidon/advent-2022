{
 "cells": [
  {
   "cell_type": "markdown",
   "id": "8de185b9-9ad7-42b7-b62e-6e855684a7a1",
   "metadata": {},
   "source": [
    "# Advent of Code, day 2\n",
    "## Part 1"
   ]
  },
  {
   "cell_type": "code",
   "execution_count": 1,
   "id": "48cff2d4-1e08-4f40-8c7a-83834d33efd4",
   "metadata": {},
   "outputs": [
    {
     "data": {
      "text/plain": [
       "['A X', 'C X', 'C X']"
      ]
     },
     "execution_count": 1,
     "metadata": {},
     "output_type": "execute_result"
    }
   ],
   "source": [
    "with open('data/day_02.txt', 'r') as infile:\n",
    "    games = infile.read().split('\\n')[:-1]\n",
    "    \n",
    "games[:3]"
   ]
  },
  {
   "cell_type": "code",
   "execution_count": 2,
   "id": "cf79c6f7-4979-4587-96f5-0dda7dca51af",
   "metadata": {},
   "outputs": [],
   "source": [
    "def play_game_string_methods(game):\n",
    "    score = 0\n",
    "    if game.endswith('X'):\n",
    "        score += 1\n",
    "        if game.startswith('A'):\n",
    "            score += 3\n",
    "        elif game.startswith('B'):\n",
    "            pass\n",
    "        else:\n",
    "            score += 6\n",
    "    elif game.endswith('Y'):\n",
    "        score += 2\n",
    "        if game.startswith('A'):\n",
    "            score += 6\n",
    "        elif game.startswith('B'):\n",
    "            score += 3\n",
    "        else:\n",
    "            pass\n",
    "    else:\n",
    "        score += 3\n",
    "        if game.startswith('A'):\n",
    "            pass\n",
    "        elif game.startswith('B'):\n",
    "            score += 6\n",
    "        else:\n",
    "            score += 3\n",
    "    return score"
   ]
  },
  {
   "cell_type": "code",
   "execution_count": 3,
   "id": "b71b1d6f-cb2c-452d-939b-1c79a0503cca",
   "metadata": {},
   "outputs": [],
   "source": [
    "def play_game_string_indices(game):\n",
    "    score = 0\n",
    "    if game[2] == 'X':\n",
    "        score += 1\n",
    "        if game[0] == 'A':\n",
    "            score += 3\n",
    "        elif game[0] == 'B':\n",
    "            pass\n",
    "        else:\n",
    "            score += 6\n",
    "    elif game[2] == 'Y':\n",
    "        score += 2\n",
    "        if game[0] == 'A':\n",
    "            score += 6\n",
    "        elif game[0] == 'B':\n",
    "            score += 3\n",
    "        else:\n",
    "            pass\n",
    "    else:\n",
    "        score += 3\n",
    "        if game[0] == 'A':\n",
    "            pass\n",
    "        elif game[0] == 'B':\n",
    "            score += 6\n",
    "        else:\n",
    "            score += 3\n",
    "    return score"
   ]
  },
  {
   "cell_type": "code",
   "execution_count": 4,
   "id": "aa8eae54-3206-42e7-8b34-8c1585f3932c",
   "metadata": {},
   "outputs": [],
   "source": [
    "def play_game_string_search(game):\n",
    "    score = 0\n",
    "    if 'X' in game:\n",
    "        score += 1\n",
    "        if 'A' in game:\n",
    "            score += 3\n",
    "        elif 'B' in game:\n",
    "            pass\n",
    "        else:\n",
    "            score += 6\n",
    "    elif 'Y' in game:\n",
    "        score += 2\n",
    "        if 'A' in game:\n",
    "            score += 6\n",
    "        elif 'B' in game:\n",
    "            score += 3\n",
    "        else:\n",
    "            pass\n",
    "    else:\n",
    "        score += 3\n",
    "        if 'A' in game:\n",
    "            pass\n",
    "        elif 'B' in game:\n",
    "            score += 6\n",
    "        else:\n",
    "            score += 3\n",
    "    return score"
   ]
  },
  {
   "cell_type": "code",
   "execution_count": 5,
   "id": "4616d655-9766-4231-891c-a69e6a0ff589",
   "metadata": {},
   "outputs": [
    {
     "name": "stdout",
     "output_type": "stream",
     "text": [
      "710 µs ± 6.41 µs per loop (mean ± std. dev. of 7 runs, 1,000 loops each)\n"
     ]
    },
    {
     "data": {
      "text/plain": [
       "11063"
      ]
     },
     "execution_count": 5,
     "metadata": {},
     "output_type": "execute_result"
    }
   ],
   "source": [
    "%timeit sum(map(play_game_string_methods, games))\n",
    "sum(map(play_game_string_methods, games))"
   ]
  },
  {
   "cell_type": "code",
   "execution_count": 6,
   "id": "acb8b73e-65bf-4432-8d75-b2f11439258e",
   "metadata": {},
   "outputs": [
    {
     "name": "stdout",
     "output_type": "stream",
     "text": [
      "345 µs ± 1.64 µs per loop (mean ± std. dev. of 7 runs, 1,000 loops each)\n"
     ]
    },
    {
     "data": {
      "text/plain": [
       "11063"
      ]
     },
     "execution_count": 6,
     "metadata": {},
     "output_type": "execute_result"
    }
   ],
   "source": [
    "%timeit sum(map(play_game_string_indices, games))\n",
    "sum(map(play_game_string_indices, games))"
   ]
  },
  {
   "cell_type": "code",
   "execution_count": 7,
   "id": "fac09268-7873-4552-a573-5e88410b268a",
   "metadata": {},
   "outputs": [
    {
     "name": "stdout",
     "output_type": "stream",
     "text": [
      "270 µs ± 12 µs per loop (mean ± std. dev. of 7 runs, 1,000 loops each)\n"
     ]
    },
    {
     "data": {
      "text/plain": [
       "11063"
      ]
     },
     "execution_count": 7,
     "metadata": {},
     "output_type": "execute_result"
    }
   ],
   "source": [
    "%timeit sum(map(play_game_string_search, games))\n",
    "sum(map(play_game_string_search, games))"
   ]
  },
  {
   "cell_type": "markdown",
   "id": "a68a36fb-f46c-4b02-b885-4c0307307232",
   "metadata": {},
   "source": [
    "As expected, calling string methods is the slowest solution by far, because the method calls come with a lot of overhead.\n",
    "\n",
    "Amusingly, searching the string to match a character is a faster solution than directly indexing the correct part of the string. Does string indexing somehow involve more overhead than matching a character?\n",
    "\n",
    "If we make the algorithm a bit \"dumber\" and check the score case-wise (rather than with a two-stage conditional) we can compare direct string matching (without the overhead of indexing) with searching a string for a character, with the caveat that we'll have to search the string for two characters which will slow things down a little."
   ]
  },
  {
   "cell_type": "code",
   "execution_count": 8,
   "id": "ff4ea7a0-3fe5-4cc9-8934-ab5ca52f59aa",
   "metadata": {},
   "outputs": [],
   "source": [
    "def play_game_string_match_casewise(game):\n",
    "    score = 0\n",
    "    if game == 'A X':\n",
    "        return 4\n",
    "    elif game == 'B X':\n",
    "        return 1\n",
    "    elif game == 'C X':\n",
    "        return 7\n",
    "    elif game == 'A Y':\n",
    "        return 8\n",
    "    elif game == 'B Y':\n",
    "        return 5\n",
    "    elif game == 'C Y':\n",
    "        return 2\n",
    "    elif game == 'A Z':\n",
    "        return 3\n",
    "    elif game == 'B Z':\n",
    "        return 9\n",
    "    else:\n",
    "        return 6"
   ]
  },
  {
   "cell_type": "code",
   "execution_count": 9,
   "id": "64255443-35d0-456b-9427-36b98295c517",
   "metadata": {},
   "outputs": [],
   "source": [
    "def play_game_string_search_casewise(game):\n",
    "    score = 0\n",
    "    if 'X' in game and 'A' in game:\n",
    "        return 4\n",
    "    elif 'X' in game and 'B' in game:\n",
    "        return 1\n",
    "    elif 'X' in game and 'C' in game:\n",
    "        return 7\n",
    "    elif 'Y' in game and 'A' in game:\n",
    "        return 8\n",
    "    elif 'Y' in game and 'B' in game:\n",
    "        return 5\n",
    "    elif 'Y' in game and 'C' in game:\n",
    "        return 2\n",
    "    elif 'Z' in game and 'A' in game:\n",
    "        return 3\n",
    "    elif 'Z' in game and 'B' in game:\n",
    "        return 9\n",
    "    else:\n",
    "        return 6"
   ]
  },
  {
   "cell_type": "code",
   "execution_count": 10,
   "id": "3cb8e9c4-fd4b-4921-953d-df2f770b71d2",
   "metadata": {},
   "outputs": [
    {
     "name": "stdout",
     "output_type": "stream",
     "text": [
      "253 µs ± 1.12 µs per loop (mean ± std. dev. of 7 runs, 1,000 loops each)\n"
     ]
    },
    {
     "data": {
      "text/plain": [
       "11063"
      ]
     },
     "execution_count": 10,
     "metadata": {},
     "output_type": "execute_result"
    }
   ],
   "source": [
    "%timeit sum(map(play_game_string_match_casewise, games))\n",
    "sum(map(play_game_string_match_casewise, games))"
   ]
  },
  {
   "cell_type": "code",
   "execution_count": 11,
   "id": "1752e46b-b9a2-4112-8753-a4b66f4cb8c0",
   "metadata": {},
   "outputs": [
    {
     "name": "stdout",
     "output_type": "stream",
     "text": [
      "304 µs ± 992 ns per loop (mean ± std. dev. of 7 runs, 1,000 loops each)\n"
     ]
    },
    {
     "data": {
      "text/plain": [
       "11063"
      ]
     },
     "execution_count": 11,
     "metadata": {},
     "output_type": "execute_result"
    }
   ],
   "source": [
    "%timeit sum(map(play_game_string_search_casewise, games))\n",
    "sum(map(play_game_string_search_casewise, games))"
   ]
  },
  {
   "cell_type": "markdown",
   "id": "cebe0186-bcb2-48f3-b9ec-fd8c3252ac04",
   "metadata": {},
   "source": [
    "String matching, even when doing it in a casewise pattern, is pretty fast; faster than using string indexing with a smarter search pattern and similar to searching a string for a matching character with a smart search pattern. Searching strings for a matching character in a casewise pattern requires a double search (two `in` statements) for each case, which is obviously slower.\n",
    "\n",
    "One final thing to try is string matching using Python 3.10's new match/case statement."
   ]
  },
  {
   "cell_type": "code",
   "execution_count": 12,
   "id": "77036195-5dd6-40c9-99a0-e9efe057062f",
   "metadata": {},
   "outputs": [],
   "source": [
    "def play_game_match_case(game):\n",
    "    score = 0\n",
    "    match game:\n",
    "        case 'A X':\n",
    "            return 4\n",
    "        case 'B X':\n",
    "            return 1\n",
    "        case 'C X':\n",
    "            return 7\n",
    "        case 'A Y':\n",
    "            return 8\n",
    "        case 'B Y':\n",
    "            return 5\n",
    "        case 'C Y':\n",
    "            return 2\n",
    "        case 'A Z':\n",
    "            return 3\n",
    "        case 'B Z':\n",
    "            return 9\n",
    "        case _:\n",
    "            return 6"
   ]
  },
  {
   "cell_type": "code",
   "execution_count": 13,
   "id": "907ef914-9e17-45d2-a059-4b587634ebec",
   "metadata": {},
   "outputs": [
    {
     "name": "stdout",
     "output_type": "stream",
     "text": [
      "244 µs ± 1.08 µs per loop (mean ± std. dev. of 7 runs, 1,000 loops each)\n"
     ]
    },
    {
     "data": {
      "text/plain": [
       "11063"
      ]
     },
     "execution_count": 13,
     "metadata": {},
     "output_type": "execute_result"
    }
   ],
   "source": [
    "%timeit sum(map(play_game_match_case, games))\n",
    "sum(map(play_game_match_case, games))"
   ]
  },
  {
   "cell_type": "markdown",
   "id": "ef589da3-b4d3-4e8f-a91d-5c616915c62c",
   "metadata": {},
   "source": [
    "This is very similar in speed to the casewise string match, which is to be expected because the match/case statement is just syntactic sugar for a list of elseif conditionals, as far as I can tell."
   ]
  },
  {
   "cell_type": "markdown",
   "id": "f6f7dd03-350d-4107-a426-afc462dec0df",
   "metadata": {},
   "source": [
    "## Part 2"
   ]
  },
  {
   "cell_type": "code",
   "execution_count": 14,
   "id": "caec3b32-35f6-4aa2-ad34-31b5835d9c43",
   "metadata": {},
   "outputs": [],
   "source": [
    "def play_game2_match_case(game):\n",
    "    score = 0\n",
    "    match game:\n",
    "        case 'A X':\n",
    "            # lose, so play C and get 3\n",
    "            return 3\n",
    "        case 'B X':\n",
    "            # lose, so play A and get 1\n",
    "            return 1\n",
    "        case 'C X':\n",
    "            # lose, so play B and get 2\n",
    "            return 2\n",
    "        case 'A Y':\n",
    "            # draw, so play A and get 1 + 3\n",
    "            return 4\n",
    "        case 'B Y':\n",
    "            # draw, so play B and get 2 + 3\n",
    "            return 5\n",
    "        case 'C Y':\n",
    "            # draw, so play C and get 3 + 3\n",
    "            return 6\n",
    "        case 'A Z':\n",
    "            # win, so play B and get 2 + 6\n",
    "            return 8\n",
    "        case 'B Z':\n",
    "            # win, so play C and get 3 + 6\n",
    "            return 9\n",
    "        case _:\n",
    "            # win, so play A and get 1 + 6\n",
    "            return 7"
   ]
  },
  {
   "cell_type": "code",
   "execution_count": 15,
   "id": "c27839a5-6ec2-4a09-94df-8b5bcefa8960",
   "metadata": {},
   "outputs": [],
   "source": [
    "def play_game2_string_search(game):\n",
    "    score = 0\n",
    "    if 'X' in game:\n",
    "        if 'A' in game:\n",
    "            score += 3\n",
    "        elif 'B' in game:\n",
    "            score += 1\n",
    "        else:\n",
    "            score += 2\n",
    "    elif 'Y' in game:\n",
    "        score += 3\n",
    "        if 'A' in game:\n",
    "            score += 1\n",
    "        elif 'B' in game:\n",
    "            score += 2\n",
    "        else:\n",
    "            score += 3\n",
    "    else:\n",
    "        score += 6\n",
    "        if 'A' in game:\n",
    "            score += 2\n",
    "        elif 'B' in game:\n",
    "            score += 3\n",
    "        else:\n",
    "            score += 1\n",
    "    return score"
   ]
  },
  {
   "cell_type": "code",
   "execution_count": 16,
   "id": "597957bc-410a-4590-9655-102735d6078f",
   "metadata": {},
   "outputs": [
    {
     "name": "stdout",
     "output_type": "stream",
     "text": [
      "246 µs ± 2.04 µs per loop (mean ± std. dev. of 7 runs, 1,000 loops each)\n"
     ]
    },
    {
     "data": {
      "text/plain": [
       "10349"
      ]
     },
     "execution_count": 16,
     "metadata": {},
     "output_type": "execute_result"
    }
   ],
   "source": [
    "%timeit sum(map(play_game2_match_case, games))\n",
    "sum(map(play_game2_match_case, games))"
   ]
  },
  {
   "cell_type": "code",
   "execution_count": 17,
   "id": "4f90e7ea-0f72-472f-9716-f6b426394ea9",
   "metadata": {},
   "outputs": [
    {
     "name": "stdout",
     "output_type": "stream",
     "text": [
      "260 µs ± 3.85 µs per loop (mean ± std. dev. of 7 runs, 1,000 loops each)\n"
     ]
    },
    {
     "data": {
      "text/plain": [
       "10349"
      ]
     },
     "execution_count": 17,
     "metadata": {},
     "output_type": "execute_result"
    }
   ],
   "source": [
    "%timeit sum(map(play_game2_string_search, games))\n",
    "sum(map(play_game2_string_search, games))"
   ]
  }
 ],
 "metadata": {
  "kernelspec": {
   "display_name": "Python 3 (ipykernel)",
   "language": "python",
   "name": "python3"
  },
  "language_info": {
   "codemirror_mode": {
    "name": "ipython",
    "version": 3
   },
   "file_extension": ".py",
   "mimetype": "text/x-python",
   "name": "python",
   "nbconvert_exporter": "python",
   "pygments_lexer": "ipython3",
   "version": "3.10.8"
  }
 },
 "nbformat": 4,
 "nbformat_minor": 5
}
