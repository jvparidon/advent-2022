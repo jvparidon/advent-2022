{
 "cells": [
  {
   "cell_type": "markdown",
   "id": "d3829769-86c3-44fb-9252-c8744f4cc7b0",
   "metadata": {},
   "source": [
    "# Advent of Code, day 8\n",
    "## Part 1"
   ]
  },
  {
   "cell_type": "code",
   "execution_count": 1,
   "id": "2790bc82-aa74-4d1e-9711-1ae6323e60a7",
   "metadata": {},
   "outputs": [],
   "source": [
    "import numpy as np"
   ]
  },
  {
   "cell_type": "code",
   "execution_count": 142,
   "id": "14c607f8-a017-4049-b591-4db6154be0be",
   "metadata": {},
   "outputs": [
    {
     "data": {
      "text/plain": [
       "array([[3, 0, 3, 7, 3],\n",
       "       [2, 5, 5, 1, 2],\n",
       "       [6, 5, 3, 3, 2],\n",
       "       [3, 3, 5, 4, 9],\n",
       "       [3, 5, 3, 9, 0]])"
      ]
     },
     "execution_count": 142,
     "metadata": {},
     "output_type": "execute_result"
    }
   ],
   "source": [
    "grid = np.array([[int(c) for c in row] for row in \"\"\"30373\n",
    "25512\n",
    "65332\n",
    "33549\n",
    "35390\"\"\".split('\\n')])\n",
    "\n",
    "grid"
   ]
  },
  {
   "cell_type": "code",
   "execution_count": 217,
   "id": "33b24217-6d39-4d88-8fb8-5dc631749d5b",
   "metadata": {},
   "outputs": [
    {
     "data": {
      "text/plain": [
       "array([[1, 3, 1, ..., 0, 3, 3],\n",
       "       [2, 1, 0, ..., 0, 1, 1],\n",
       "       [2, 0, 1, ..., 2, 3, 2],\n",
       "       ...,\n",
       "       [2, 0, 0, ..., 0, 1, 1],\n",
       "       [0, 0, 0, ..., 1, 0, 1],\n",
       "       [1, 1, 1, ..., 1, 2, 2]])"
      ]
     },
     "execution_count": 217,
     "metadata": {},
     "output_type": "execute_result"
    }
   ],
   "source": [
    "with open('data/day_08.txt', 'r') as infile:\n",
    "    grid = np.array([[int(c) for c in row] for row in infile.read().split('\\n')[:-1]])\n",
    "grid"
   ]
  },
  {
   "cell_type": "code",
   "execution_count": 140,
   "id": "79e7ca02-823e-4dc6-bb37-f18062b6a3b7",
   "metadata": {},
   "outputs": [],
   "source": [
    "def count_grid(grid):\n",
    "    \n",
    "    visible = np.zeros(grid.shape)\n",
    "    \n",
    "    def mark_left_visible(grid, visible):\n",
    "        for i, row in enumerate(grid):\n",
    "            for j, val in enumerate(row):\n",
    "                if j == 0:\n",
    "                    visible[i, j] = 1\n",
    "                elif val > max(row[:j]):\n",
    "                    visible[i, j] = 1\n",
    "        return grid, visible\n",
    "    \n",
    "    for i in range(4):\n",
    "        grid, visible = mark_left_visible(np.rot90(grid), np.rot90(visible))\n",
    "        \n",
    "    return int(visible.sum())"
   ]
  },
  {
   "cell_type": "code",
   "execution_count": 141,
   "id": "5d8fc9f3-e058-4e25-9cca-1206f3096329",
   "metadata": {},
   "outputs": [
    {
     "data": {
      "text/plain": [
       "1719"
      ]
     },
     "execution_count": 141,
     "metadata": {},
     "output_type": "execute_result"
    }
   ],
   "source": [
    "count_grid(grid)"
   ]
  },
  {
   "cell_type": "markdown",
   "id": "cebb38ef-956d-41fb-8587-c0320813d2b1",
   "metadata": {},
   "source": [
    "## Part 2"
   ]
  },
  {
   "cell_type": "code",
   "execution_count": 223,
   "id": "dfcb842f-b566-4f31-a7b2-ed1b68711cd5",
   "metadata": {},
   "outputs": [],
   "source": [
    "def find_tree(grid):\n",
    "\n",
    "    tree_scores = np.zeros(grid.shape)\n",
    "    \n",
    "    for i, row in enumerate(grid):\n",
    "        for j, ref in enumerate(row):\n",
    "\n",
    "            def look_direction(vector):\n",
    "                n = 0\n",
    "                for val in vector[1:]:\n",
    "                    n += 1\n",
    "                    if val >= grid[i, j]:\n",
    "                        break\n",
    "                return n\n",
    "\n",
    "            r = [\n",
    "                look_direction(grid[i:, j]),\n",
    "                look_direction(grid[i::-1, j]),\n",
    "                look_direction(grid[i, j:]),\n",
    "                look_direction(grid[i, j::-1])\n",
    "            ]\n",
    "\n",
    "            tree_scores[i, j] = np.cumprod(r)[-1]\n",
    "    \n",
    "    return int(tree_scores.max())\n",
    "    \n",
    "\n",
    "            "
   ]
  },
  {
   "cell_type": "code",
   "execution_count": 224,
   "id": "19081599-d099-45ab-b819-88892633a434",
   "metadata": {},
   "outputs": [
    {
     "data": {
      "text/plain": [
       "590824"
      ]
     },
     "execution_count": 224,
     "metadata": {},
     "output_type": "execute_result"
    }
   ],
   "source": [
    "find_tree(grid)"
   ]
  },
  {
   "cell_type": "markdown",
   "id": "0e78e0d4-ea9a-4d4f-9cc8-9af9b1a411ad",
   "metadata": {},
   "source": [
    "Nothing fancy today, no time to figure out how to optimize things so it's just going to be some relatively unsightly numpy wrangling."
   ]
  },
  {
   "cell_type": "code",
   "execution_count": null,
   "id": "7e3320fa-d2b5-464c-9f9c-96eb827a6daf",
   "metadata": {},
   "outputs": [],
   "source": []
  }
 ],
 "metadata": {
  "kernelspec": {
   "display_name": "Python 3 (ipykernel)",
   "language": "python",
   "name": "python3"
  },
  "language_info": {
   "codemirror_mode": {
    "name": "ipython",
    "version": 3
   },
   "file_extension": ".py",
   "mimetype": "text/x-python",
   "name": "python",
   "nbconvert_exporter": "python",
   "pygments_lexer": "ipython3",
   "version": "3.10.8"
  }
 },
 "nbformat": 4,
 "nbformat_minor": 5
}
