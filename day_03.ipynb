{
 "cells": [
  {
   "cell_type": "markdown",
   "id": "1c3956d4-245a-4981-a933-3b3728fe4b4c",
   "metadata": {},
   "source": [
    "# Advent of Code, day 3\n",
    "## Part 1"
   ]
  },
  {
   "cell_type": "code",
   "execution_count": 1,
   "id": "592457f2-72c5-4321-815a-d391ea41f468",
   "metadata": {},
   "outputs": [
    {
     "data": {
      "text/plain": [
       "['vvMQnwwvrwWNfrtZJfppmSfJSmSg',\n",
       " 'BzGqjlBqBBmztHNFzDHg',\n",
       " 'llRCPlTPPqBjPhqhlBRBClhqWcTWrWNcMbQbdrdLccccrnvM']"
      ]
     },
     "execution_count": 1,
     "metadata": {},
     "output_type": "execute_result"
    }
   ],
   "source": [
    "with open('data/day_03.txt', 'r') as infile:\n",
    "    l = infile.read().split('\\n')[:-1]\n",
    "    \n",
    "l[:3]"
   ]
  },
  {
   "cell_type": "code",
   "execution_count": 2,
   "id": "68cf993f-41f7-4915-a42c-3bb6f205f0d1",
   "metadata": {},
   "outputs": [],
   "source": [
    "def sumpriorities(l):\n",
    "    return sum(map(lambda s: sum(\n",
    "        map(lambda x: x - 96 if x > 96 else x - 38,\n",
    "            map(ord, set(s[:len(s) // 2]) & set(s[len(s) // 2:]))\n",
    "        )\n",
    "    ), l))"
   ]
  },
  {
   "cell_type": "code",
   "execution_count": 3,
   "id": "e703e5eb-af41-4ae3-bb66-70099244d563",
   "metadata": {},
   "outputs": [
    {
     "name": "stdout",
     "output_type": "stream",
     "text": [
      "401 µs ± 4.81 µs per loop (mean ± std. dev. of 7 runs, 1,000 loops each)\n"
     ]
    },
    {
     "data": {
      "text/plain": [
       "8018"
      ]
     },
     "execution_count": 3,
     "metadata": {},
     "output_type": "execute_result"
    }
   ],
   "source": [
    "%timeit sumpriorities(l)\n",
    "sumpriorities(l)"
   ]
  },
  {
   "cell_type": "markdown",
   "id": "3852c1e3-eeb6-4a20-a076-26ec4a1f6138",
   "metadata": {},
   "source": [
    "## Part 2"
   ]
  },
  {
   "cell_type": "code",
   "execution_count": 4,
   "id": "d2d81ef3-8128-4199-9cc1-8d94a62aadbc",
   "metadata": {},
   "outputs": [],
   "source": [
    "def sumbadges(l):\n",
    "    return sum(\n",
    "        map(\n",
    "            lambda x: x - 96 if x > 96 else x - 38,\n",
    "            map(\n",
    "                ord,\n",
    "                (\n",
    "                    next(iter(\n",
    "                        set(l[i * 3]) & set(l[i * 3 + 1]) & set(l[i * 3 + 2])\n",
    "                    )) for i in range(len(l) // 3)\n",
    "                )\n",
    "            )\n",
    "        )\n",
    "    )"
   ]
  },
  {
   "cell_type": "code",
   "execution_count": 5,
   "id": "0e4b3ed4-8242-4333-b464-c5bac2cbc574",
   "metadata": {},
   "outputs": [
    {
     "name": "stdout",
     "output_type": "stream",
     "text": [
      "290 µs ± 3.75 µs per loop (mean ± std. dev. of 7 runs, 1,000 loops each)\n"
     ]
    },
    {
     "data": {
      "text/plain": [
       "2518"
      ]
     },
     "execution_count": 5,
     "metadata": {},
     "output_type": "execute_result"
    }
   ],
   "source": [
    "%timeit sumbadges(l)\n",
    "sumbadges(l)"
   ]
  },
  {
   "cell_type": "code",
   "execution_count": null,
   "id": "e4591baf-72b0-43b6-b54e-93179f25d0c4",
   "metadata": {},
   "outputs": [],
   "source": []
  }
 ],
 "metadata": {
  "kernelspec": {
   "display_name": "Python 3 (ipykernel)",
   "language": "python",
   "name": "python3"
  },
  "language_info": {
   "codemirror_mode": {
    "name": "ipython",
    "version": 3
   },
   "file_extension": ".py",
   "mimetype": "text/x-python",
   "name": "python",
   "nbconvert_exporter": "python",
   "pygments_lexer": "ipython3",
   "version": "3.10.8"
  }
 },
 "nbformat": 4,
 "nbformat_minor": 5
}
