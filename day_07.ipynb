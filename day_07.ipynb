{
 "cells": [
  {
   "cell_type": "markdown",
   "id": "1c3956d4-245a-4981-a933-3b3728fe4b4c",
   "metadata": {},
   "source": [
    "# Advent of Code, day 7\n",
    "## Part 1"
   ]
  },
  {
   "cell_type": "code",
   "execution_count": 1,
   "id": "592457f2-72c5-4321-815a-d391ea41f468",
   "metadata": {},
   "outputs": [
    {
     "data": {
      "text/plain": [
       "['$ cd /',\n",
       " '$ ls',\n",
       " 'dir bqc',\n",
       " 'dir mwmlf',\n",
       " 'dir ngn',\n",
       " '143562 nrwjb',\n",
       " '78449 qqvdcclf',\n",
       " 'dir qrnm',\n",
       " 'dir smfzmmhc',\n",
       " '116085 tvrms']"
      ]
     },
     "execution_count": 1,
     "metadata": {},
     "output_type": "execute_result"
    }
   ],
   "source": [
    "with open('data/day_07.txt', 'r') as infile:\n",
    "    l = infile.read().split('\\n')[:-1]\n",
    "    \n",
    "l[:10]"
   ]
  },
  {
   "cell_type": "code",
   "execution_count": 2,
   "id": "928297a4-e622-4311-a614-aff5a28eb43d",
   "metadata": {},
   "outputs": [],
   "source": [
    "def build_tree(l):\n",
    "    fs = dict()\n",
    "    cur = []\n",
    "\n",
    "    for s in l:\n",
    "        if s.startswith('$ cd'):\n",
    "            if s.endswith('..'):\n",
    "                cur.pop()\n",
    "            else:\n",
    "                cur.append(s.split()[-1])\n",
    "        elif s.startswith('$ ls'):\n",
    "            pass\n",
    "        elif s.startswith('dir'):\n",
    "            pass\n",
    "        else:\n",
    "            size = int(s.split()[0])\n",
    "            for i, _ in enumerate(cur):\n",
    "                if tuple(cur[:i + 1]) not in fs.keys():\n",
    "                    fs[tuple(cur[:i + 1])] = 0\n",
    "                fs[tuple(cur[:i + 1])] += size\n",
    "                \n",
    "    return(fs)"
   ]
  },
  {
   "cell_type": "code",
   "execution_count": 3,
   "id": "9b95e2a8-9b3f-438c-81f9-099cdce52c26",
   "metadata": {},
   "outputs": [
    {
     "data": {
      "text/plain": [
       "1325919"
      ]
     },
     "execution_count": 3,
     "metadata": {},
     "output_type": "execute_result"
    }
   ],
   "source": [
    "sum([v for v in build_tree(l).values() if v < 100_000])"
   ]
  },
  {
   "cell_type": "markdown",
   "id": "6fa6540e-4867-48bd-87b6-5c6541e46235",
   "metadata": {},
   "source": [
    "Is there a more efficient way to build the file tree?  \n",
    "Possibly, but appending to a list that contains the current and popping items off the end when we `cd` up a level is pretty fast and orderly.  \n",
    "A `dict` with `tuple`s as keys is also fairly efficient and easy to work with."
   ]
  },
  {
   "cell_type": "markdown",
   "id": "ec1f8a5b-457e-4773-90fa-fa617aafbca6",
   "metadata": {},
   "source": [
    "## Part 2"
   ]
  },
  {
   "cell_type": "code",
   "execution_count": 4,
   "id": "93150ab4-279e-479a-8217-7546244c269c",
   "metadata": {},
   "outputs": [],
   "source": [
    "def free_space(fs, install_space, total_space):\n",
    "    needed =  fs[('/',)] - (total_space - install_space)\n",
    "    return min([v for k, v in fs.items() if v > needed])"
   ]
  },
  {
   "cell_type": "code",
   "execution_count": 5,
   "id": "d21b286a-f758-48c5-8903-0feac203f996",
   "metadata": {},
   "outputs": [
    {
     "data": {
      "text/plain": [
       "2050735"
      ]
     },
     "execution_count": 5,
     "metadata": {},
     "output_type": "execute_result"
    }
   ],
   "source": [
    "free_space(build_tree(l), 30_000_000, 70_000_000)"
   ]
  },
  {
   "cell_type": "markdown",
   "id": "b2f3f3f2-1819-440a-80ec-301decf2332b",
   "metadata": {},
   "source": [
    "The ease of working with the file tree for this use-case sort of affirms the design decisions made above."
   ]
  },
  {
   "cell_type": "code",
   "execution_count": null,
   "id": "73765a63-c6f5-4fa1-9aa9-eb9f67faaa58",
   "metadata": {},
   "outputs": [],
   "source": []
  }
 ],
 "metadata": {
  "kernelspec": {
   "display_name": "Python 3 (ipykernel)",
   "language": "python",
   "name": "python3"
  },
  "language_info": {
   "codemirror_mode": {
    "name": "ipython",
    "version": 3
   },
   "file_extension": ".py",
   "mimetype": "text/x-python",
   "name": "python",
   "nbconvert_exporter": "python",
   "pygments_lexer": "ipython3",
   "version": "3.10.8"
  }
 },
 "nbformat": 4,
 "nbformat_minor": 5
}
