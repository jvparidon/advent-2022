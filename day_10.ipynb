{
 "cells": [
  {
   "cell_type": "markdown",
   "id": "2bfe759c-635f-4c5a-b776-4bc45398b869",
   "metadata": {},
   "source": [
    "# Advent of Code, day 10\n",
    "## Part 1"
   ]
  },
  {
   "cell_type": "code",
   "execution_count": 103,
   "id": "b91f00b2-7cc6-43f3-9336-7f06bb242bf3",
   "metadata": {},
   "outputs": [],
   "source": [
    "import numpy as np"
   ]
  },
  {
   "cell_type": "code",
   "execution_count": 104,
   "id": "f08582e2-9bd2-4547-9af7-b7f73b6b8dbd",
   "metadata": {},
   "outputs": [],
   "source": [
    "with open('data/day_10.txt', 'r') as infile:\n",
    "    instr = infile.read().split('\\n')[:-1]"
   ]
  },
  {
   "cell_type": "code",
   "execution_count": 105,
   "id": "1b262f1e-1cef-4b39-92be-e42593f1dcec",
   "metadata": {},
   "outputs": [],
   "source": [
    "from itertools import chain\n",
    "\n",
    "def parse_instr(instr):\n",
    "    res = [1]\n",
    "    for x in instr:\n",
    "        res.append(0)\n",
    "        if x.startswith('addx'):\n",
    "            res.append(int(x.split(' ')[1]))\n",
    "            \n",
    "    res = np.cumsum(res)\n",
    "    return res"
   ]
  },
  {
   "cell_type": "code",
   "execution_count": 106,
   "id": "acafbdcd-30ef-4bba-bc21-9be6c8401fc2",
   "metadata": {},
   "outputs": [
    {
     "data": {
      "text/plain": [
       "14340"
      ]
     },
     "execution_count": 106,
     "metadata": {},
     "output_type": "execute_result"
    }
   ],
   "source": [
    "res = parse_instr(instr)\n",
    "np.sum([res[i - 1] * i for i in range(20, 240, 40)])"
   ]
  },
  {
   "cell_type": "markdown",
   "id": "75d7eb49-8c96-4d22-896b-3abf55ffd2ad",
   "metadata": {},
   "source": [
    "## Part 2"
   ]
  },
  {
   "cell_type": "code",
   "execution_count": 107,
   "id": "25bd6e37-c220-4466-88a3-61198866be93",
   "metadata": {},
   "outputs": [
    {
     "name": "stdout",
     "output_type": "stream",
     "text": [
      "###...##..###....##..##..###..#..#.###..\n",
      "#..#.#..#.#..#....#.#..#.#..#.#..#.#..#.\n",
      "#..#.#..#.#..#....#.#....###..####.#..#.\n",
      "###..####.###.....#.#....#..#.#..#.###..\n",
      "#....#..#.#....#..#.#..#.#..#.#..#.#....\n",
      "#....#..#.#.....##...##..###..#..#.#....\n"
     ]
    }
   ],
   "source": [
    "def draw_screen(instr):\n",
    "    instr = instr[:-1].reshape(-1, 40)\n",
    "    px = np.full(instr.shape, '.')\n",
    "    \n",
    "    for i in range(px.shape[0]):\n",
    "        for j in range(px.shape[1]):           \n",
    "            if instr[i, j] in [j - 1, j, j + 1]:\n",
    "                px[i, j] = '#'\n",
    "\n",
    "    for row in px:\n",
    "        print(''.join(row))\n",
    "    \n",
    "draw_screen(parse_instr(instr))"
   ]
  },
  {
   "cell_type": "markdown",
   "id": "eb2ecec5-5735-430f-ba32-ea392ab98d68",
   "metadata": {},
   "source": [
    "Is it particularly fast to do all this in numpy?  \n",
    "Probably not, since I'm doing quite some nested looping instead of built-in vectorized functions. These loops were easy to read and debug though, and numpy's cumulative sum function also came in handy."
   ]
  },
  {
   "cell_type": "code",
   "execution_count": null,
   "id": "6e574aa2-5d33-4201-812a-2cc8352e4d16",
   "metadata": {},
   "outputs": [],
   "source": []
  }
 ],
 "metadata": {
  "kernelspec": {
   "display_name": "Python 3 (ipykernel)",
   "language": "python",
   "name": "python3"
  },
  "language_info": {
   "codemirror_mode": {
    "name": "ipython",
    "version": 3
   },
   "file_extension": ".py",
   "mimetype": "text/x-python",
   "name": "python",
   "nbconvert_exporter": "python",
   "pygments_lexer": "ipython3",
   "version": "3.10.8"
  }
 },
 "nbformat": 4,
 "nbformat_minor": 5
}
