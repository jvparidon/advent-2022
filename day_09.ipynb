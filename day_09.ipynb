{
 "cells": [
  {
   "cell_type": "markdown",
   "id": "7e7b6296-c01a-46ac-9631-b5d9622a3b78",
   "metadata": {},
   "source": [
    "# Advent of Code, day 9\n",
    "## Part 1"
   ]
  },
  {
   "cell_type": "code",
   "execution_count": 480,
   "id": "1feb10f3-4a06-439c-b96c-a4c4e74bc8bd",
   "metadata": {},
   "outputs": [],
   "source": [
    "import numpy as np"
   ]
  },
  {
   "cell_type": "code",
   "execution_count": 481,
   "id": "dd7e972a-7a26-4bc9-b7b7-3bd8d42ae1d3",
   "metadata": {},
   "outputs": [],
   "source": [
    "with open('data/day_09.txt', 'r') as infile:\n",
    "    moves = infile.read().split('\\n')[:-1]"
   ]
  },
  {
   "cell_type": "code",
   "execution_count": 482,
   "id": "eb52541e-582c-45f1-b5d0-cbba329e2a12",
   "metadata": {},
   "outputs": [],
   "source": [
    "def rope_trace(moves):\n",
    "    \n",
    "    h = np.array([0, 0])\n",
    "    t = np.array([0, 0])\n",
    "    tlist = []\n",
    "    \n",
    "    def hstep(h, heading):\n",
    "        match heading:\n",
    "            case 'D':\n",
    "                h += [1, 0]\n",
    "            case 'R':\n",
    "                h += [0, 1]\n",
    "            case 'U':\n",
    "                h += [-1, 0]\n",
    "            case 'L':\n",
    "                h += [0, -1]\n",
    "                \n",
    "    dist = lambda h, t: np.linalg.norm(h - t)\n",
    "    \n",
    "    def tstep(t, heading):\n",
    "        diff = h - t\n",
    "        if np.abs(diff[0]) >= 2:\n",
    "            if np.abs(diff[1]) == 1:\n",
    "                t += [diff[0] // 2, diff[1]]\n",
    "            else:\n",
    "                t += [diff[0] // 2, 0]\n",
    "        elif np.abs(diff[1]) >= 2:\n",
    "            if np.abs(diff[0]) == 1:\n",
    "                t += [diff[0], diff[1] // 2]\n",
    "            else:\n",
    "                t += [0, diff[1] // 2]\n",
    "    \n",
    "    for move in moves:\n",
    "        heading, length = move.split()\n",
    "        for step in range(int(length)):\n",
    "            hstep(h, heading)\n",
    "            tstep(t, heading)\n",
    "            tlist.append(t.copy())\n",
    "            \n",
    "    tlist = np.array(tlist)\n",
    "    dim = tlist.max() + 1\n",
    "    tgrid = np.zeros((dim, dim))\n",
    "    for t in tlist:\n",
    "        tgrid[tuple(t)] = 1\n",
    "        \n",
    "    return int(tgrid.sum())"
   ]
  },
  {
   "cell_type": "code",
   "execution_count": 483,
   "id": "2f9991ec-9ea3-401f-9d2e-872fb7cae0aa",
   "metadata": {},
   "outputs": [
    {
     "data": {
      "text/plain": [
       "5619"
      ]
     },
     "execution_count": 483,
     "metadata": {},
     "output_type": "execute_result"
    }
   ],
   "source": [
    "rope_trace(moves)"
   ]
  },
  {
   "cell_type": "markdown",
   "id": "47f250ba-ecd8-4782-95e2-71f9436b8ee7",
   "metadata": {},
   "source": [
    "## Part 2"
   ]
  },
  {
   "cell_type": "code",
   "execution_count": 484,
   "id": "f02a90a1-94e6-436a-9faa-5deeb8892dcb",
   "metadata": {},
   "outputs": [],
   "source": [
    "def rope_trace(moves, knots):\n",
    "    \n",
    "    ks = [np.array([0, 0]) for knot in range(knots)]\n",
    "    tlist = []\n",
    "    \n",
    "    def hstep(h, heading):\n",
    "        match heading:\n",
    "            case 'D':\n",
    "                h += [1, 0]\n",
    "            case 'R':\n",
    "                h += [0, 1]\n",
    "            case 'U':\n",
    "                h += [-1, 0]\n",
    "            case 'L':\n",
    "                h += [0, -1]\n",
    "    \n",
    "    def tstep(t, h):\n",
    "        diff = h - t\n",
    "        if np.abs(diff[0]) >= 2 and np.abs(diff[1]) >= 2:\n",
    "            t += [diff[0] // 2, diff[1] // 2]\n",
    "        elif np.abs(diff[0]) >= 2:\n",
    "            t += [diff[0] // 2, diff[1]]\n",
    "        elif np.abs(diff[1]) >= 2:\n",
    "            t += [diff[0], diff[1] // 2]\n",
    "    \n",
    "    for move in moves:\n",
    "        heading, length = move.split()\n",
    "        for step in range(int(length)):\n",
    "            for i, k in enumerate(ks):\n",
    "                if i == 0:\n",
    "                    hstep(ks[i], heading)\n",
    "                else:\n",
    "                    tstep(ks[i], ks[i - 1])\n",
    "            tlist.append(ks[-1].copy())\n",
    "            \n",
    "    tlist = np.array(tlist)\n",
    "    dim = (tlist.max() - tlist.min()) + 1\n",
    "    tgrid = np.zeros((dim, dim))\n",
    "    for t in tlist:\n",
    "        tgrid[tuple(t)] = 1\n",
    "        \n",
    "    return int(tgrid.sum())"
   ]
  },
  {
   "cell_type": "code",
   "execution_count": 485,
   "id": "c1b7a930-c205-4ce3-8e8e-7169310a6069",
   "metadata": {},
   "outputs": [
    {
     "data": {
      "text/plain": [
       "2376"
      ]
     },
     "execution_count": 485,
     "metadata": {},
     "output_type": "execute_result"
    }
   ],
   "source": [
    "rope_trace(moves, 10)"
   ]
  },
  {
   "cell_type": "markdown",
   "id": "a4458254-2b50-45ed-b7da-920bf60b769f",
   "metadata": {},
   "source": [
    "Nothing fancy for lack of time. The tricky corner case here was that while in Part 1 the head can only move horizontally and vertically (so there are only two cases to check when moving the tail), in Part 2 preceding knots other than the head can move diagonally as well (to catch up with the head). That means a preceding knot can be two positions over in a diagonal direction, which presents an extra case to check (not checking for this essentially breaks the rope!)."
   ]
  },
  {
   "cell_type": "code",
   "execution_count": null,
   "id": "f43ce4d5-31c7-4597-a259-d9492e813e73",
   "metadata": {},
   "outputs": [],
   "source": []
  }
 ],
 "metadata": {
  "kernelspec": {
   "display_name": "Python 3 (ipykernel)",
   "language": "python",
   "name": "python3"
  },
  "language_info": {
   "codemirror_mode": {
    "name": "ipython",
    "version": 3
   },
   "file_extension": ".py",
   "mimetype": "text/x-python",
   "name": "python",
   "nbconvert_exporter": "python",
   "pygments_lexer": "ipython3",
   "version": "3.10.8"
  }
 },
 "nbformat": 4,
 "nbformat_minor": 5
}
