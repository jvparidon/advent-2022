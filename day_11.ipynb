{
 "cells": [
  {
   "cell_type": "markdown",
   "id": "36a74fe0-0ad6-4c35-a82a-46ed14221076",
   "metadata": {
    "tags": []
   },
   "source": [
    "# Advent of Code, day 11\n",
    "## Part 1"
   ]
  },
  {
   "cell_type": "code",
   "execution_count": 75,
   "id": "773ddeee-cef4-4e97-8b86-5ce824775795",
   "metadata": {},
   "outputs": [],
   "source": [
    "with open('data/day_11.txt', 'r') as infile:\n",
    "    monkeylist = infile.read()[:-1].split('\\n\\n')"
   ]
  },
  {
   "cell_type": "code",
   "execution_count": 74,
   "id": "e1c14b1a-799f-4488-8406-0e3282bb7e77",
   "metadata": {},
   "outputs": [],
   "source": [
    "class Monkey:\n",
    "    \n",
    "    def __init__(self, monkey, divisor=1):\n",
    "        monkey = monkey.split('\\n')\n",
    "        self.divisor = divisor\n",
    "        self.items = [int(item) for item in monkey[1].removeprefix('  Starting items: ').split(', ')]\n",
    "        self.operation = lambda old: eval(monkey[2].removeprefix('  Operation: new = '))\n",
    "        self.test_val = int(monkey[3].removeprefix('  Test: divisible by '))\n",
    "        self.ttrgt_idx = int(monkey[4].split(' ')[-1])\n",
    "        self.ftrgt_idx = int(monkey[5].split(' ')[-1])\n",
    "        self.ttrgt = None\n",
    "        self.ftrgt = None\n",
    "        self.inspections = 0\n",
    "        self.modulus = 0\n",
    "        \n",
    "    def do_round(self):\n",
    "        for i, worry in enumerate(self.items):\n",
    "            self.inspections += 1\n",
    "            worry = self.operation(worry) % self.modulus // self.divisor\n",
    "            if worry % self.test_val == 0:\n",
    "                self.ttrgt.items.append(worry)\n",
    "            else:\n",
    "                self.ftrgt.items.append(worry)\n",
    "        self.items = []\n",
    "\n",
    "        \n",
    "class Troop:\n",
    "    \n",
    "    def __init__(self, monkeys):\n",
    "        self.monkeys = monkeys\n",
    "        modulus = 1\n",
    "        for monkey in monkeys:\n",
    "            modulus *= monkey.test_val\n",
    "            monkey.ttrgt = monkeys[monkey.ttrgt_idx]\n",
    "            monkey.ftrgt = monkeys[monkey.ftrgt_idx]\n",
    "        for monkey in monkeys:\n",
    "            monkey.modulus = modulus\n",
    "        \n",
    "    def do_round(self):\n",
    "        for i, monkey in enumerate(self.monkeys):\n",
    "            monkey.do_round()\n",
    "            \n",
    "    def print_monkeys(self):\n",
    "        for i, monkey in enumerate(self.monkeys):\n",
    "            print(f\"Monkey {i}: {monkey.items}\")\n",
    "            \n",
    "    def count_inspections(self):\n",
    "        return [monkey.inspections for monkey in self.monkeys]"
   ]
  },
  {
   "cell_type": "code",
   "execution_count": 76,
   "id": "d2fd2891-bf6d-4e30-8521-283cc96cd624",
   "metadata": {},
   "outputs": [],
   "source": [
    "monkeys = []\n",
    "\n",
    "for monkey in monkeylist:\n",
    "    monkeys.append(Monkey(monkey, divisor=3))\n",
    "    \n",
    "troop = Troop(monkeys)"
   ]
  },
  {
   "cell_type": "code",
   "execution_count": 77,
   "id": "60de5e9e-1dd9-46c1-8b17-67ac85129823",
   "metadata": {},
   "outputs": [
    {
     "name": "stdout",
     "output_type": "stream",
     "text": [
      "Monkey 0: [2, 2, 2, 2, 2, 2, 2, 2, 2, 2, 2, 2, 2, 2, 2, 2, 2, 2, 2, 2]\n",
      "Monkey 1: [2, 2, 2, 2, 2, 2, 2, 2, 2, 2, 2, 2, 2, 2, 2, 2]\n",
      "Monkey 2: []\n",
      "Monkey 3: []\n",
      "Monkey 4: []\n",
      "Monkey 5: []\n",
      "Monkey 6: []\n",
      "Monkey 7: []\n"
     ]
    }
   ],
   "source": [
    "for i in range(20):\n",
    "    troop.do_round()\n",
    "    \n",
    "troop.print_monkeys()"
   ]
  },
  {
   "cell_type": "code",
   "execution_count": 78,
   "id": "13fd76dd-6d0a-423c-b459-e911001d7b55",
   "metadata": {},
   "outputs": [
    {
     "data": {
      "text/plain": [
       "101436"
      ]
     },
     "execution_count": 78,
     "metadata": {},
     "output_type": "execute_result"
    }
   ],
   "source": [
    "inspections = sorted(troop.count_inspections())\n",
    "inspections[-1] * inspections[-2]"
   ]
  },
  {
   "cell_type": "markdown",
   "id": "e8eb922a-c625-469b-8636-d495d2695300",
   "metadata": {},
   "source": [
    "## Part 2"
   ]
  },
  {
   "cell_type": "code",
   "execution_count": 79,
   "id": "7ca80b4d-af5b-423a-8e7b-6dc0f3f13764",
   "metadata": {},
   "outputs": [],
   "source": [
    "monkeys = []\n",
    "\n",
    "for monkey in monkeylist:\n",
    "    monkeys.append(Monkey(monkey))\n",
    "    \n",
    "troop = Troop(monkeys)"
   ]
  },
  {
   "cell_type": "code",
   "execution_count": 80,
   "id": "c61a051a-a8dc-42d2-8bfd-0cc775dbc0c4",
   "metadata": {},
   "outputs": [
    {
     "name": "stdout",
     "output_type": "stream",
     "text": [
      "Monkey 0: [8309875, 8309875, 8326515, 2615095, 7927053, 6793756, 2212036, 3870546, 1021638, 5712818, 8833156, 1038798]\n",
      "Monkey 1: [8326508, 8416598, 2615088, 2615088, 2615088, 9387048, 1822712, 302050, 302050, 7798682, 4386130]\n",
      "Monkey 2: [8632156]\n",
      "Monkey 3: [7927048, 157858, 9594055, 2052235]\n",
      "Monkey 4: [2976380, 2976380, 2976380, 2976380, 3631320, 3631320, 7927040, 1331793]\n",
      "Monkey 5: []\n",
      "Monkey 6: []\n",
      "Monkey 7: []\n"
     ]
    }
   ],
   "source": [
    "for i in range(10000):\n",
    "    troop.do_round()\n",
    "    \n",
    "troop.print_monkeys()"
   ]
  },
  {
   "cell_type": "code",
   "execution_count": 81,
   "id": "8101845e-6f05-4604-b1a9-9d3ad6bcf46d",
   "metadata": {},
   "outputs": [
    {
     "data": {
      "text/plain": [
       "19754471646"
      ]
     },
     "execution_count": 81,
     "metadata": {},
     "output_type": "execute_result"
    }
   ],
   "source": [
    "inspections = sorted(troop.count_inspections())\n",
    "inspections[-1] * inspections[-2]"
   ]
  },
  {
   "cell_type": "markdown",
   "id": "e1d285a7-80c5-4d89-a210-f4fa76bff3e9",
   "metadata": {},
   "source": [
    "Good challenge for some quick and ugly classes. Let's call it agent-based modeling.  \n",
    "That divisible-by-product-of-divisors trick for Part 2 took me a while to figure out, and even then I wasn't 100% sure it would work until I tried it."
   ]
  },
  {
   "cell_type": "code",
   "execution_count": null,
   "id": "a45da8b5-4af4-44a3-a596-45c166556d7f",
   "metadata": {},
   "outputs": [],
   "source": []
  }
 ],
 "metadata": {
  "kernelspec": {
   "display_name": "Python 3 (ipykernel)",
   "language": "python",
   "name": "python3"
  },
  "language_info": {
   "codemirror_mode": {
    "name": "ipython",
    "version": 3
   },
   "file_extension": ".py",
   "mimetype": "text/x-python",
   "name": "python",
   "nbconvert_exporter": "python",
   "pygments_lexer": "ipython3",
   "version": "3.10.8"
  }
 },
 "nbformat": 4,
 "nbformat_minor": 5
}
