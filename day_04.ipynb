{
 "cells": [
  {
   "cell_type": "markdown",
   "id": "1c3956d4-245a-4981-a933-3b3728fe4b4c",
   "metadata": {},
   "source": [
    "# Advent of Code, day 4\n",
    "## Part 1"
   ]
  },
  {
   "cell_type": "code",
   "execution_count": 1,
   "id": "0763ca7d-cc18-4726-8d7f-8807b03547f6",
   "metadata": {},
   "outputs": [],
   "source": [
    "l = \"\"\"2-4,6-8\n",
    "2-3,4-5\n",
    "5-7,7-9\n",
    "2-8,3-7\n",
    "6-6,4-6\n",
    "2-6,4-8\"\"\".split('\\n')"
   ]
  },
  {
   "cell_type": "code",
   "execution_count": 2,
   "id": "592457f2-72c5-4321-815a-d391ea41f468",
   "metadata": {},
   "outputs": [
    {
     "data": {
      "text/plain": [
       "['24-91,80-92', '28-93,5-94', '30-81,33-82']"
      ]
     },
     "execution_count": 2,
     "metadata": {},
     "output_type": "execute_result"
    }
   ],
   "source": [
    "with open('data/day_04.txt', 'r') as infile:\n",
    "    l = infile.read().split('\\n')[:-1]\n",
    "    \n",
    "l[:3]"
   ]
  },
  {
   "cell_type": "code",
   "execution_count": 3,
   "id": "2f5d1281-9b33-4ec7-a605-d0a24d1806e2",
   "metadata": {},
   "outputs": [],
   "source": [
    "def overlaps_loop(l):\n",
    "    overlaps = 0\n",
    "    for pair in l:\n",
    "        p = list(map(int, pair.replace('-', ',').split(',')))\n",
    "        if (p[0] >= p[2]) and (p[1] <= p[3]):\n",
    "            overlaps += 1\n",
    "        elif (p[0] <= p[2]) and (p[1] >= p[3]):\n",
    "            overlaps += 1\n",
    "    return overlaps"
   ]
  },
  {
   "cell_type": "code",
   "execution_count": 4,
   "id": "f706b763-6ee6-4623-a6da-af4f4b18d61d",
   "metadata": {},
   "outputs": [
    {
     "name": "stdout",
     "output_type": "stream",
     "text": [
      "611 µs ± 21.4 µs per loop (mean ± std. dev. of 7 runs, 1,000 loops each)\n"
     ]
    },
    {
     "data": {
      "text/plain": [
       "547"
      ]
     },
     "execution_count": 4,
     "metadata": {},
     "output_type": "execute_result"
    }
   ],
   "source": [
    "%timeit overlaps_loop(l)\n",
    "overlaps_loop(l)"
   ]
  },
  {
   "cell_type": "code",
   "execution_count": 5,
   "id": "4e190ba2-26dd-4ab3-9775-16079ef0bccf",
   "metadata": {},
   "outputs": [],
   "source": [
    "def overlaps_maps(l):\n",
    "    return sum(map(lambda p: 1 if (((p[0] >= p[2]) and (p[1] <= p[3])) or ((p[0] <= p[2]) and (p[1] >= p[3]))) else 0,\n",
    "            map(lambda s: list(map(int, s.replace('-', ',').split(','))), l)))"
   ]
  },
  {
   "cell_type": "code",
   "execution_count": 6,
   "id": "d3aaadb6-8ae8-4913-8c74-2f1c4bcaab7b",
   "metadata": {},
   "outputs": [
    {
     "name": "stdout",
     "output_type": "stream",
     "text": [
      "669 µs ± 3.96 µs per loop (mean ± std. dev. of 7 runs, 1,000 loops each)\n"
     ]
    },
    {
     "data": {
      "text/plain": [
       "547"
      ]
     },
     "execution_count": 6,
     "metadata": {},
     "output_type": "execute_result"
    }
   ],
   "source": [
    "%timeit overlaps_maps(l)\n",
    "overlaps_maps(l)"
   ]
  },
  {
   "cell_type": "code",
   "execution_count": 7,
   "id": "1ea07572-038a-443d-bf03-723c9a7ebc5e",
   "metadata": {},
   "outputs": [],
   "source": [
    "def overlaps_lists(l):\n",
    "    return sum([1 if (((p[0] >= p[2]) and (p[1] <= p[3])) or ((p[0] <= p[2]) and (p[1] >= p[3]))) else 0 for p in\n",
    "            [[int(c) for c in s.replace('-', ',').split(',')] for s in l]])"
   ]
  },
  {
   "cell_type": "code",
   "execution_count": 8,
   "id": "23f2ffd3-3dd2-4d59-8afd-b9e504489d61",
   "metadata": {},
   "outputs": [
    {
     "name": "stdout",
     "output_type": "stream",
     "text": [
      "665 µs ± 17.7 µs per loop (mean ± std. dev. of 7 runs, 1,000 loops each)\n"
     ]
    },
    {
     "data": {
      "text/plain": [
       "547"
      ]
     },
     "execution_count": 8,
     "metadata": {},
     "output_type": "execute_result"
    }
   ],
   "source": [
    "%timeit overlaps_lists(l)\n",
    "overlaps_lists(l)"
   ]
  },
  {
   "cell_type": "code",
   "execution_count": 9,
   "id": "dbb162f9-3d6e-4ba8-9213-3eb0cd26b14b",
   "metadata": {},
   "outputs": [],
   "source": [
    "def overlaps_mix(l):\n",
    "    return sum([1 if (((p[0] >= p[2]) and (p[1] <= p[3])) or ((p[0] <= p[2]) and (p[1] >= p[3]))) else 0 for p in\n",
    "                [list(map(int, s.replace('-', ',').split(','))) for s in l]])"
   ]
  },
  {
   "cell_type": "code",
   "execution_count": 10,
   "id": "fd21b85b-62fc-49c5-a968-9546ba54d01b",
   "metadata": {},
   "outputs": [
    {
     "name": "stdout",
     "output_type": "stream",
     "text": [
      "609 µs ± 2.82 µs per loop (mean ± std. dev. of 7 runs, 1,000 loops each)\n"
     ]
    },
    {
     "data": {
      "text/plain": [
       "547"
      ]
     },
     "execution_count": 10,
     "metadata": {},
     "output_type": "execute_result"
    }
   ],
   "source": [
    "%timeit overlaps_mix(l)\n",
    "overlaps_mix(l)"
   ]
  },
  {
   "cell_type": "markdown",
   "id": "14fd4e14-686d-4434-825c-200bd8376cac",
   "metadata": {},
   "source": [
    "Interestingly, the very functional `map()` solution is the slowest, probably due to the overhead that calling the `lambda`s introduces. Using all nested `list` comprehensions is faster, but faster still is a solution that mixes the idioms, using nested `list` comprehensions where we'd need a `lambda` to use `map()` (and we don't want that overhead) but using `map()` in the one place where it's faster: applying `int()` to the lowest-level split strings.  \n",
    "The simple `for` loop ends up being just as fast as the nested `list`/`map()` mix, which is somewhat surprising.\n",
    "\n",
    "Note: The slowest solutions by far are any solutions in which `str.split()` is called multiple times, i.e. for both the _-_ and _,_ splits, hence the solution of replacing the dash with a comma and then calling `str.split()` only once, resulting a list of length 4 for each line."
   ]
  },
  {
   "cell_type": "markdown",
   "id": "3852c1e3-eeb6-4a20-a076-26ec4a1f6138",
   "metadata": {},
   "source": [
    "## Part 2"
   ]
  },
  {
   "cell_type": "code",
   "execution_count": 11,
   "id": "e406d4c6-7c41-4e03-85e4-49bbfbb710b2",
   "metadata": {},
   "outputs": [],
   "source": [
    "def any_overlaps_mix(l):\n",
    "    return sum([1 if (((p[0] <= p[2]) and (p[1] >= p[2])) or\n",
    "                      ((p[0] <= p[3]) and (p[1] >= p[3])) or\n",
    "                      ((p[0] >= p[2]) and (p[1] <= p[3]))) else 0 for p in\n",
    "                [list(map(int, s.replace('-', ',').split(','))) for s in l]])"
   ]
  },
  {
   "cell_type": "code",
   "execution_count": 12,
   "id": "7da7e271-1bd9-45e8-b1b6-3dc561398664",
   "metadata": {},
   "outputs": [
    {
     "name": "stdout",
     "output_type": "stream",
     "text": [
      "617 µs ± 13.1 µs per loop (mean ± std. dev. of 7 runs, 1,000 loops each)\n"
     ]
    },
    {
     "data": {
      "text/plain": [
       "843"
      ]
     },
     "execution_count": 12,
     "metadata": {},
     "output_type": "execute_result"
    }
   ],
   "source": [
    "%timeit any_overlaps_mix(l)\n",
    "any_overlaps_mix(l)"
   ]
  },
  {
   "cell_type": "code",
   "execution_count": 13,
   "id": "72aa6105-ae67-48aa-926b-b1138a5fdf67",
   "metadata": {},
   "outputs": [],
   "source": [
    "def any_overlaps_ranges(l):\n",
    "    return sum([1 if (set(range(p[0], p[1] + 1)) & set(range(p[2], p[3] + 1))) else 0 for p in\n",
    "                [list(map(int, s.replace('-', ',').split(','))) for s in l]])"
   ]
  },
  {
   "cell_type": "code",
   "execution_count": 14,
   "id": "434a33ef-2b09-4e85-a8aa-d8ef402abf10",
   "metadata": {},
   "outputs": [
    {
     "name": "stdout",
     "output_type": "stream",
     "text": [
      "1.99 ms ± 15.6 µs per loop (mean ± std. dev. of 7 runs, 100 loops each)\n"
     ]
    },
    {
     "data": {
      "text/plain": [
       "843"
      ]
     },
     "execution_count": 14,
     "metadata": {},
     "output_type": "execute_result"
    }
   ],
   "source": [
    "%timeit any_overlaps_ranges(l)\n",
    "any_overlaps_ranges(l)"
   ]
  },
  {
   "cell_type": "markdown",
   "id": "2816b2ae-1e45-43a0-9eec-5715aee4c754",
   "metadata": {},
   "source": [
    "As one might expect, the solution using intersection of ranges is exceedingly slow; calling `range()` every time is a lot of unnecessary overhead."
   ]
  },
  {
   "cell_type": "code",
   "execution_count": null,
   "id": "58615532-f852-48a7-b5c1-0750b1de20bd",
   "metadata": {},
   "outputs": [],
   "source": []
  }
 ],
 "metadata": {
  "kernelspec": {
   "display_name": "Python 3 (ipykernel)",
   "language": "python",
   "name": "python3"
  },
  "language_info": {
   "codemirror_mode": {
    "name": "ipython",
    "version": 3
   },
   "file_extension": ".py",
   "mimetype": "text/x-python",
   "name": "python",
   "nbconvert_exporter": "python",
   "pygments_lexer": "ipython3",
   "version": "3.10.8"
  }
 },
 "nbformat": 4,
 "nbformat_minor": 5
}
