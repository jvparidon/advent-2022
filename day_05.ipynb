{
 "cells": [
  {
   "cell_type": "markdown",
   "id": "1c3956d4-245a-4981-a933-3b3728fe4b4c",
   "metadata": {},
   "source": [
    "# Advent of Code, day 5\n",
    "## Part 1"
   ]
  },
  {
   "cell_type": "code",
   "execution_count": 1,
   "id": "592457f2-72c5-4321-815a-d391ea41f468",
   "metadata": {},
   "outputs": [
    {
     "name": "stdout",
     "output_type": "stream",
     "text": [
      "    [H]         [H]         [V]    \n",
      "    [V]         [V] [J]     [F] [F]\n",
      "    [S] [L]     [M] [B]     [L] [J]\n",
      "    [C] [N] [B] [W] [D]     [D] [M]\n",
      "[G] [L] [M] [S] [S] [C]     [T] [V]\n",
      "[P] [B] [B] [P] [Q] [S] [L] [H] [B]\n",
      "[N] [J] [D] [V] [C] [Q] [Q] [M] [P]\n",
      "[R] [T] [T] [R] [G] [W] [F] [W] [L]\n",
      " 1   2   3   4   5   6   7   8   9 \n",
      "['move 3 from 3 to 7', 'move 4 from 1 to 9', 'move 5 from 6 to 3']\n"
     ]
    }
   ],
   "source": [
    "with open('data/day_05.txt', 'r') as infile:\n",
    "    layout, ops = infile.read().split('\\n\\n')\n",
    "    ops = ops.split('\\n')[:-1]\n",
    "    \n",
    "print(layout)\n",
    "print(ops[:3])"
   ]
  },
  {
   "cell_type": "code",
   "execution_count": 2,
   "id": "ac337545-d21b-420c-b73c-f3a26885ce7d",
   "metadata": {},
   "outputs": [],
   "source": [
    "from collections import deque\n",
    "\n",
    "def read_layout(layout):\n",
    "    layout = layout.split('\\n')[:-1]\n",
    "    n = (len(layout[0]) + 1) // 4\n",
    "    stacks = [deque() for i in range(n)]\n",
    "    for i, row in enumerate(reversed(layout)):\n",
    "        for j in range(n):\n",
    "            c = row[j * 4 + 1]\n",
    "            if c != ' ':\n",
    "                stacks[j].append(c)\n",
    "    return stacks\n",
    "        "
   ]
  },
  {
   "cell_type": "code",
   "execution_count": 3,
   "id": "9163bacd-9040-474d-82c1-c669c7581fba",
   "metadata": {},
   "outputs": [
    {
     "data": {
      "text/plain": [
       "[deque(['R', 'N', 'P', 'G']),\n",
       " deque(['T', 'J', 'B', 'L', 'C', 'S', 'V', 'H']),\n",
       " deque(['T', 'D', 'B', 'M', 'N', 'L']),\n",
       " deque(['R', 'V', 'P', 'S', 'B']),\n",
       " deque(['G', 'C', 'Q', 'S', 'W', 'M', 'V', 'H']),\n",
       " deque(['W', 'Q', 'S', 'C', 'D', 'B', 'J']),\n",
       " deque(['F', 'Q', 'L']),\n",
       " deque(['W', 'M', 'H', 'T', 'D', 'L', 'F', 'V']),\n",
       " deque(['L', 'P', 'B', 'V', 'M', 'J', 'F'])]"
      ]
     },
     "execution_count": 3,
     "metadata": {},
     "output_type": "execute_result"
    }
   ],
   "source": [
    "read_layout(layout)"
   ]
  },
  {
   "cell_type": "code",
   "execution_count": 4,
   "id": "351f6970-a1cd-447d-bcbd-27a5177ea45f",
   "metadata": {},
   "outputs": [],
   "source": [
    "def rearrange(stacks, ops):\n",
    "    for op in ops:\n",
    "        op = list(map(int, op.split()[1::2]))\n",
    "        for i in range(op[0]):\n",
    "            stacks[op[2] - 1].append(stacks[op[1] - 1].pop())\n",
    "    return stacks\n",
    "\n",
    "def get_top(stacks):\n",
    "    return ''.join([stack.pop() for stack in stacks.copy()])"
   ]
  },
  {
   "cell_type": "code",
   "execution_count": 5,
   "id": "d45c187a-4da5-4f3a-b492-a4ed83a05ebe",
   "metadata": {},
   "outputs": [
    {
     "name": "stdout",
     "output_type": "stream",
     "text": [
      "HBTMTBSDC\n"
     ]
    }
   ],
   "source": [
    "print(get_top(rearrange(read_layout(layout), ops)))"
   ]
  },
  {
   "cell_type": "markdown",
   "id": "17775118-035c-4d04-a127-b56045e6635e",
   "metadata": {},
   "source": [
    "Bit ugly, but fairly robust and it gets the job done."
   ]
  },
  {
   "cell_type": "markdown",
   "id": "3852c1e3-eeb6-4a20-a076-26ec4a1f6138",
   "metadata": {},
   "source": [
    "## Part 2"
   ]
  },
  {
   "cell_type": "code",
   "execution_count": 6,
   "id": "58615532-f852-48a7-b5c1-0750b1de20bd",
   "metadata": {},
   "outputs": [],
   "source": [
    "def rearrange2(stacks, ops):\n",
    "    for op in ops:\n",
    "        op = list(map(int, op.split()[1::2]))\n",
    "        stacks[op[2] - 1].extend(reversed([stacks[op[1] - 1].pop() for i in range(op[0])]))\n",
    "    return stacks"
   ]
  },
  {
   "cell_type": "code",
   "execution_count": 7,
   "id": "a3f65322-9543-4258-b5ef-630b5a226765",
   "metadata": {},
   "outputs": [
    {
     "name": "stdout",
     "output_type": "stream",
     "text": [
      "PQTJRSHWS\n"
     ]
    }
   ],
   "source": [
    "print(get_top(rearrange2(read_layout(layout), ops)))"
   ]
  },
  {
   "cell_type": "markdown",
   "id": "abe6620f-f21b-401a-97a7-84bce0e0de7d",
   "metadata": {},
   "source": [
    "Same here, not too pretty but it works."
   ]
  },
  {
   "cell_type": "code",
   "execution_count": null,
   "id": "419d3b7a-f6b1-414c-b59d-0b4ba423f8ed",
   "metadata": {},
   "outputs": [],
   "source": []
  }
 ],
 "metadata": {
  "kernelspec": {
   "display_name": "Python 3 (ipykernel)",
   "language": "python",
   "name": "python3"
  },
  "language_info": {
   "codemirror_mode": {
    "name": "ipython",
    "version": 3
   },
   "file_extension": ".py",
   "mimetype": "text/x-python",
   "name": "python",
   "nbconvert_exporter": "python",
   "pygments_lexer": "ipython3",
   "version": "3.10.8"
  }
 },
 "nbformat": 4,
 "nbformat_minor": 5
}
